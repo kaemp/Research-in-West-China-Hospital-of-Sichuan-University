{
 "cells": [
  {
   "cell_type": "code",
   "execution_count": 5,
   "metadata": {},
   "outputs": [],
   "source": [
    "# Loading the packages\n",
    "from imblearn.over_sampling import SMOTE\n",
    "from sklearn.svm import SVC\n",
    "from sklearn.pipeline import Pipeline\n",
    "from sklearn.svm import LinearSVC\n",
    "from sklearn.preprocessing import StandardScaler\n",
    "from sklearn.linear_model import SGDClassifier\n",
    "from sklearn.ensemble import RandomForestClassifier\n",
    "from sklearn.tree import DecisionTreeClassifier \n",
    "from sklearn.metrics import accuracy_score\n",
    "from sklearn.ensemble import GradientBoostingClassifier\n",
    "from xgboost.sklearn import XGBClassifier\n",
    "import pandas as pd\n",
    "import numpy as np\n",
    "from sklearn.model_selection import train_test_split\n",
    "from sklearn.metrics import plot_confusion_matrix\n",
    "from sklearn.preprocessing import OneHotEncoder\n",
    "from sklearn.metrics import ConfusionMatrixDisplay, confusion_matrix\n",
    "\n",
    "import statsmodels.api as sm\n",
    "import statsmodels.formula.api as smf\n",
    "from sklearn.model_selection import GridSearchCV, RandomizedSearchCV, train_test_split, KFold, StratifiedKFold\n",
    "from sklearn.linear_model import  LogisticRegression\n",
    "import matplotlib.pyplot as plt\n",
    "from sklearn.ensemble import AdaBoostClassifier\n",
    "from sklearn.ensemble import VotingClassifier\n",
    "\n",
    "import tensorflow as tf\n",
    "from tensorflow import keras\n",
    "from tensorflow.python.keras.metrics import accuracy\n",
    "import warnings\n",
    "import seaborn as sns\n",
    "from sklearn.pipeline import make_pipeline\n",
    "from scipy.stats import spearmanr\n",
    "from sklearn.metrics import ConfusionMatrixDisplay, confusion_matrix\n",
    "from sklearn.metrics import roc_auc_score\n",
    "from scipy.stats import uniform, randint\n",
    "from sklearn.datasets import make_classification\n",
    "from sklearn.calibration import calibration_curve\n",
    "from sklearn.calibration import CalibratedClassifierCV\n",
    "from matplotlib import pyplot\n",
    "from sklearn.metrics import plot_roc_curve, roc_curve\n",
    "import random\n",
    "from scipy import stats"
   ]
  },
  {
   "cell_type": "code",
   "execution_count": 6,
   "metadata": {},
   "outputs": [],
   "source": [
    "def intersection(lst1, lst2):\n",
    "    lst3 = [value for value in lst1 if value in lst2]\n",
    "    return lst3\n",
    "\n",
    "# Customized Standardization\n",
    "def cust_standardize(dataset):\n",
    "    dataset_returned = pd.DataFrame()\n",
    "    for element in dataset.columns:\n",
    "        if (dataset[element] == dataset[element].iloc[0]).all():\n",
    "            dataset_returned[element] = dataset[element]\n",
    "        else:\n",
    "            dataset_returned[element] = (dataset[element] - np.mean(dataset[element]))/np.std(dataset[element])\n",
    "    return dataset_returned\n",
    "\n",
    "# No preprocess on features needed here\n",
    "def bootstrap_feature_selection(feature_dataset, target_dataset, test_size, num_select, num_iter = 5):\n",
    "    selected_list = []\n",
    "    event_dict = {}\n",
    "    param_grid = {\n",
    "        'logisticregression__C': 10.0**np.arange(-5, 5, step = 0.1)\n",
    "    }\n",
    "    for i in np.arange(num_iter):\n",
    "        skf = StratifiedKFold(n_splits=5, shuffle = True)\n",
    "        for train_index, test_index in skf.split(feature_dataset, target_dataset):\n",
    "            X_train, X_test = X_over.iloc[train_index], X_over.iloc[test_index]\n",
    "            y_train, y_test = y_over[train_index], y_over[test_index]\n",
    "        # Parameter Search\n",
    "        logit_pipe = make_pipeline(\n",
    "            StandardScaler(),\n",
    "            LogisticRegression(penalty = 'l1', solver = 'saga',\n",
    "                              max_iter = 1e4, random_state = 490, fit_intercept=True)\n",
    "        )\n",
    "        grid_search = GridSearchCV(logit_pipe, param_grid, \n",
    "                          cv = 5, \n",
    "                          scoring = 'accuracy',\n",
    "                          n_jobs = -1)\n",
    "        grid_search.fit(X_train, y_train)\n",
    "        best_lr = grid_search.best_params_\n",
    "        # Select the significant factors\n",
    "        fit_logit = sm.Logit(y_train, sm.add_constant(cust_standardize(X_train))).fit_regularized(alpha=1/best_lr['logisticregression__C'],\n",
    "                                                                qc_tol=1e3,\n",
    "                                                                maxiter=100000, disp=False)\n",
    "        selected_features = []\n",
    "        for element in fit_logit.pvalues.index:\n",
    "            if str(fit_logit.pvalues[element]) != 'nan':\n",
    "                selected_features += [element]\n",
    "        for variable in selected_features:\n",
    "            if variable not in event_dict.keys():\n",
    "                event_dict[variable] = 1\n",
    "            else:\n",
    "                event_dict[variable] += 1\n",
    "    counter = num_select\n",
    "    tmp = 0\n",
    "    while(counter>0):\n",
    "        max_key = max(event_dict, key = event_dict.get)\n",
    "        selected_list += [max_key]\n",
    "        if (tmp != event_dict[max_key]):\n",
    "            tmp = event_dict[max_key]\n",
    "            counter -= 1\n",
    "        del event_dict[max_key]\n",
    "    return selected_list\n",
    "\n",
    "# Correlated features removed\n",
    "def corr_remove(feature_dataset, target_dataset, threshold):\n",
    "    target_dataset = pd.to_numeric(target_dataset)\n",
    "    corr_matrix = feature_dataset.corr()\n",
    "    drop_list = []\n",
    "    check_list = []\n",
    "    for column in feature_dataset.columns:\n",
    "        check_list += [column]\n",
    "        leftover_list = [ele for ele in feature_dataset.columns if ele not in check_list]\n",
    "        if column in drop_list:\n",
    "            continue\n",
    "        for element in leftover_list:\n",
    "            if abs(corr_matrix[column][element]) > threshold:\n",
    "                corr1, _ = spearmanr(feature_dataset[element], target_dataset)\n",
    "                corr2, _ = spearmanr(feature_dataset[column], target_dataset)\n",
    "                if corr1 > corr2:\n",
    "                    drop_list += [column]\n",
    "                else:\n",
    "                    drop_list += [element]\n",
    "    return list(set(drop_list))\n",
    "\n",
    "# Plot the heat map\n",
    "def corr_plot(dataset):\n",
    "    corr = dataset.corr()\n",
    "    ax = sns.heatmap(\n",
    "        corr,\n",
    "        vmin = -1, vmax = 1, center = 0,\n",
    "        cmap = sns.diverging_palette(20, 220, n = 200),\n",
    "        square = True\n",
    "    )\n",
    "    ax.set_xticklabels(\n",
    "        ax.get_xticklabels(),\n",
    "        rotation=45,\n",
    "        horizontalalignment='right'\n",
    "    );\n",
    "\n",
    "def logit_selection(feature_dataset, target_dataset, threshold):\n",
    "    selected_features = []\n",
    "    for column in feature_dataset.columns:\n",
    "        logit_model = sm.Logit(target_dataset, sm.add_constant(cust_standardize(feature_dataset[[column]]))).fit(tol=1e3,\n",
    "                                                                maxiter=100000, disp=False)\n",
    "        if logit_model.pvalues[column] < threshold:\n",
    "            selected_features += [column]\n",
    "    return selected_features"
   ]
  },
  {
   "cell_type": "code",
   "execution_count": null,
   "metadata": {},
   "outputs": [],
   "source": [
    "selected_features = ['Smoke',\n",
    " 'Drink',\n",
    " 'meanValue',\n",
    " 'HISTO_Kurtosis',\n",
    " 'SHAPE_Sphericity (only for 3D ROI (nZ>1)',\n",
    " 'GLCM_Contrast',\n",
    " 'GLRLM_RLNU',\n",
    " 'NGLDM_Busyness']"
   ]
  },
  {
   "cell_type": "code",
   "execution_count": 8,
   "metadata": {},
   "outputs": [],
   "source": [
    "rad_dataset = pd.read_excel('1.0最终入组2022.1.5.xls')\n",
    "clinic_dataset = pd.read_excel('1.7 基线数据表.xlsx').drop(columns=['Baso', 'Neu', 'Drink', 'Mono', 'ESO', 'Smoke'])\n",
    "rad_dataset = rad_dataset.set_index(\"INFO_PatientID\").drop(columns=['Name', 'INFO_PatientName'])\n",
    "clinic_dataset = clinic_dataset.set_index('Num')\n",
    "integrated_dataset = clinic_dataset.join(rad_dataset[selected_features + ['Target']], how = \"left\").drop(columns=['Name', 'Type']).dropna()\n",
    "integrated_dataset[\"Target\"] = integrated_dataset['Target'].apply(lambda x: 1 if x == \"PR\" else 0)"
   ]
  },
  {
   "cell_type": "code",
   "execution_count": 9,
   "metadata": {},
   "outputs": [],
   "source": [
    "# SMOTE Imbalanced Sampling and Data Wrangling\n",
    "oversample = SMOTE()\n",
    "X_over, y_over = oversample.fit_resample(integrated_dataset.drop(columns = \"Target\"), integrated_dataset['Target'])\n",
    "#X_over[\"Gender\"] = pd.Categorical(X_over.Gender)\n",
    "y_over = pd.Categorical(y_over)"
   ]
  },
  {
   "cell_type": "code",
   "execution_count": 10,
   "metadata": {},
   "outputs": [],
   "source": [
    "# Train test split\n",
    "skf = StratifiedKFold(n_splits=5, shuffle = True, random_state=40)\n",
    "for train_index, test_index in skf.split(X_over, y_over):\n",
    "    X_train, X_test = X_over.iloc[train_index], X_over.iloc[test_index]\n",
    "    y_train, y_test = y_over[train_index], y_over[test_index]"
   ]
  },
  {
   "cell_type": "code",
   "execution_count": 45,
   "metadata": {},
   "outputs": [
    {
     "data": {
      "text/plain": [
       "{'C': 1.000000000000004, 'gamma': 0.07943282347242829, 'kernel': 'rbf'}"
      ]
     },
     "execution_count": 45,
     "metadata": {},
     "output_type": "execute_result"
    }
   ],
   "source": [
    "# Support Vector Machine And Grid Search\n",
    "param_grid = {\n",
    "    'C': 10.0**np.arange(-2, 2, step = 0.05),\n",
    "    'gamma': 10.0**np.arange(-2, 2, step = 0.05),\n",
    "    'kernel': ['rbf', 'sigmoid', 'poly']\n",
    "}\n",
    "\n",
    "svm_clf = SVC(probability = True)\n",
    "grid_search = GridSearchCV(svm_clf, param_grid, \n",
    "                          cv = 5, \n",
    "                          scoring = 'accuracy',\n",
    "                          n_jobs = -1)\n",
    "grid_search.fit(cust_standardize(X_train), y_train)\n",
    "best_svm = grid_search.best_params_\n",
    "best_svm"
   ]
  },
  {
   "cell_type": "code",
   "execution_count": 46,
   "metadata": {},
   "outputs": [
    {
     "name": "stdout",
     "output_type": "stream",
     "text": [
      "The accuracy score for support vector machine is 0.8181818181818182.\n"
     ]
    }
   ],
   "source": [
    "svm_searched = SVC(C = best_svm['C'], gamma = best_svm['gamma'], kernel=best_svm['kernel'], probability=True)\n",
    "fit_svm = svm_searched.fit(cust_standardize(X_train), y_train)\n",
    "# Prediction Score of Support Vector Machine\n",
    "print((\"The accuracy score for support vector machine is {}.\").format(fit_svm.score(cust_standardize(X_test), y_test)))"
   ]
  },
  {
   "cell_type": "code",
   "execution_count": 47,
   "metadata": {},
   "outputs": [
    {
     "data": {
      "text/plain": [
       "0.9752066115702479"
      ]
     },
     "execution_count": 47,
     "metadata": {},
     "output_type": "execute_result"
    }
   ],
   "source": [
    "roc_auc_score(y_test, fit_svm.decision_function(cust_standardize(X_test)))"
   ]
  },
  {
   "cell_type": "code",
   "execution_count": 11,
   "metadata": {},
   "outputs": [
    {
     "name": "stdout",
     "output_type": "stream",
     "text": [
      "Average AUC for Support Vector Machine Model is 0.9533333333333334\n",
      "2.5 quantile 0.8408333333333333 for AUC, 97.5 quantile 1.0 for AUC.\n",
      "Average accuracy for Support Vector Machine Model is 0.9090909090909092\n",
      "2.5 quantile 0.7477272727272728 for accuracy, 97.5 quantile 1.0 for accuracy.\n",
      "Average specificity for Support Vector Machine Model is 0.8933333333333333\n",
      "2.5 quantile 0.6966666666666667 for specificity, 97.5 quantile 1.0 for specificity.\n",
      "Average sensitivity for Support Vector Machine Model is 0.9333333333333332\n",
      "2.5 quantile 0.6666666666666666 for sensitivity, 97.5 quantile 1.0 for sensitivity.\n",
      "Average ppv for Support Vector Machine Model is 0.9380952380952381\n",
      "2.5 quantile 0.6773809523809523 for ppv, 97.5 quantile 1.0 for ppv.\n",
      "Average npv for Support Vector Machine Model is 0.9038095238095238\n",
      "2.5 quantile 0.7335714285714285 for npv, 97.5 quantile 1.0 for npv.\n"
     ]
    },
    {
     "data": {
      "image/png": "[encoded data removed]",
      "text/plain": [
       "<Figure size 432x288 with 1 Axes>"
      ]
     },
     "metadata": {
      "needs_background": "light"
     },
     "output_type": "display_data"
    }
   ],
   "source": [
    "# Cross-validation for Support Vector Machine\n",
    "color_list = ['darkblue', 'cyan', 'green', 'orange', 'violet']\n",
    "param_grid = {\n",
    "    'svc__C': 10.0**np.arange(-2, 2, step = 0.05),\n",
    "    'svc__gamma': 10.0**np.arange(-2, 2, step = 0.05),\n",
    "    'svc__kernel': ['rbf']\n",
    "}\n",
    "i = 0\n",
    "svm_scores = []\n",
    "acc_scores = []\n",
    "svm_spec = []\n",
    "svm_sens = []\n",
    "svm_npv = []\n",
    "svm_ppv = []\n",
    "kf = StratifiedKFold(n_splits=10, shuffle=True, random_state=0)\n",
    "for train_index, test_index in kf.split(X_over, y_over):\n",
    "    i += 1\n",
    "    X_train, X_test = X_over.iloc[train_index], X_over.iloc[test_index]\n",
    "    y_train, y_test = y_over[train_index], y_over[test_index]\n",
    "\n",
    "    svm_pipe = make_pipeline(\n",
    "        StandardScaler(),\n",
    "        SVC(probability = True)\n",
    "    )\n",
    "    grid_search = GridSearchCV(\n",
    "        svm_pipe, \n",
    "        param_grid, \n",
    "        cv = 5, \n",
    "        scoring = 'roc_auc',\n",
    "        n_jobs = -1\n",
    "    )\n",
    "    grid_search.fit(X_train, y_train)\n",
    "    best_svm = grid_search.best_params_\n",
    "\n",
    "    svm_searched = SVC(C = best_svm['svc__C'], gamma = best_svm['svc__gamma'], kernel=best_svm['svc__kernel'], probability=True)\n",
    "    fit_svm = svm_searched.fit(cust_standardize(X_train), y_train)\n",
    "    roc_score = roc_auc_score(y_test, fit_svm.decision_function(cust_standardize(X_test)))\n",
    "    y_pred = fit_svm.predict(cust_standardize(X_test))\n",
    "    acc_score = accuracy_score(y_test, y_pred)\n",
    "    acc_scores += [acc_score]\n",
    "    svm_scores += [roc_score]\n",
    "    confusion = confusion_matrix(y_test, y_pred)\n",
    "    svm_spec += [confusion[0,0]/(confusion[0,0] + confusion[0,1])]\n",
    "    svm_sens += [confusion[1,1]/(confusion[1,0] + confusion[1,1])]\n",
    "    svm_ppv += [confusion[0,0]/(confusion[0,0] + confusion[1,0])]\n",
    "    svm_npv += [confusion[1,1]/(confusion[0,1] + confusion[1,1])]\n",
    "\n",
    "    if(i<=5):\n",
    "        fpr, tpr, thresholds = roc_curve(y_test, fit_svm.predict_proba(cust_standardize(X_test))[:,1])\n",
    "        rgb = (random.random(), random.random(), random.random())\n",
    "        plt.plot(fpr, tpr, label='%s ROC (area = %0.2f)' % (\"SVC Model{}\".format(i), roc_score), c=color_list[i-1])\n",
    "        \n",
    "print(\"Average AUC for Support Vector Machine Model is {}\".format(sum(svm_scores)/len(svm_scores)))\n",
    "print(\"2.5 quantile {} for AUC, 97.5 quantile {} for AUC.\".format(np.quantile(svm_scores, 0.025), np.quantile(svm_scores, 0.975)))\n",
    "print(\"Average accuracy for Support Vector Machine Model is {}\".format(sum(acc_scores)/len(acc_scores)))\n",
    "print(\"2.5 quantile {} for accuracy, 97.5 quantile {} for accuracy.\".format(np.quantile(acc_scores, 0.025), np.quantile(acc_scores, 0.975)))\n",
    "print(\"Average specificity for Support Vector Machine Model is {}\".format(sum(svm_spec)/len(svm_spec)))\n",
    "print(\"2.5 quantile {} for specificity, 97.5 quantile {} for specificity.\".format(np.quantile(svm_spec, 0.025), np.quantile(svm_spec, 0.975)))\n",
    "print(\"Average sensitivity for Support Vector Machine Model is {}\".format(sum(svm_sens)/len(svm_sens)))\n",
    "print(\"2.5 quantile {} for sensitivity, 97.5 quantile {} for sensitivity.\".format(np.quantile(svm_sens, 0.025), np.quantile(svm_sens, 0.975)))\n",
    "print(\"Average ppv for Support Vector Machine Model is {}\".format(sum(svm_ppv)/len(svm_ppv)))\n",
    "print(\"2.5 quantile {} for ppv, 97.5 quantile {} for ppv.\".format(np.quantile(svm_ppv, 0.025), np.quantile(svm_ppv, 0.975)))\n",
    "print(\"Average npv for Support Vector Machine Model is {}\".format(sum(svm_npv)/len(svm_npv)))\n",
    "print(\"2.5 quantile {} for npv, 97.5 quantile {} for npv.\".format(np.quantile(svm_npv, 0.025), np.quantile(svm_npv, 0.975)))\n",
    "plt.plot([0, 1], [0, 1],'r--')\n",
    "plt.xlim([0.0, 1.0])\n",
    "plt.ylim([0.0, 1.05])\n",
    "plt.xlabel('1-Specificity(False Positive Rate)')\n",
    "plt.ylabel('Sensitivity(True Positive Rate)')\n",
    "# plt.title('Receiver Operating Characteristic')\n",
    "plt.legend(loc=\"lower right\")\n",
    "plt.title('Mean AUC: {:.4f}'.format(sum(svm_scores)/len(svm_scores)), loc = 'left')\n",
    "plt.savefig(\"Integrated_result.png\", dpi = 300)\n",
    "plt.show()"
   ]
  },
  {
   "cell_type": "code",
   "execution_count": 13,
   "metadata": {},
   "outputs": [
    {
     "data": {
      "text/plain": [
       "Index(['Sex', 'Age', 'Pos', 'PCK', 'stage', 'Metastatis', 'Loc', 'Hemo',\n",
       "       'Plate', 'WBC', 'Lyph', 'LDH', 'White protein', 'Chemo', 'Hist',\n",
       "       'Smoke', 'Drink', 'meanValue', 'HISTO_Kurtosis',\n",
       "       'SHAPE_Sphericity (only for 3D ROI (nZ>1)', 'GLCM_Contrast',\n",
       "       'GLRLM_RLNU', 'NGLDM_Busyness', 'Target'],\n",
       "      dtype='object')"
      ]
     },
     "execution_count": 13,
     "metadata": {},
     "output_type": "execute_result"
    }
   ],
   "source": [
    "integrated_dataset.columns"
   ]
  },
  {
   "cell_type": "code",
   "execution_count": 14,
   "metadata": {},
   "outputs": [],
   "source": [
    "integrated_dataset.to_csv(\"integrated_data.csv\")"
   ]
  }
 ],
 "metadata": {
  "interpreter": {
   "hash": "31f2aee4e71d21fbe5cf8b01ff0e069b9275f58929596ceb00d14d90e3e16cd6"
  },
  "kernelspec": {
   "display_name": "Python 3.8.10 64-bit",
   "language": "python",
   "name": "python3"
  },
  "language_info": {
   "codemirror_mode": {
    "name": "ipython",
    "version": 3
   },
   "file_extension": ".py",
   "mimetype": "text/x-python",
   "name": "python",
   "nbconvert_exporter": "python",
   "pygments_lexer": "ipython3",
   "version": "3.8.10"
  },
  "orig_nbformat": 4
 },
 "nbformat": 4,
 "nbformat_minor": 2
}
